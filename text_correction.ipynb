{
 "cells": [
  {
   "cell_type": "code",
   "execution_count": 3,
   "metadata": {},
   "outputs": [],
   "source": [
    "import whisper\n",
    "\n",
    "from pycorrector import T5Corrector\n",
    "from pycorrector import MacBertCorrector\n",
    "from pycorrector import ConvSeq2SeqCorrector"
   ]
  },
  {
   "cell_type": "code",
   "execution_count": 43,
   "metadata": {},
   "outputs": [
    {
     "name": "stdout",
     "output_type": "stream",
     "text": [
      "不多\n"
     ]
    }
   ],
   "source": [
    "model = whisper.load_model(\"large-v2\")\n",
    "result = model.transcribe(\"test_3.mp3\")\n",
    "print(result[\"text\"])"
   ]
  },
  {
   "cell_type": "code",
   "execution_count": 44,
   "metadata": {},
   "outputs": [
    {
     "name": "stderr",
     "output_type": "stream",
     "text": [
      "\u001b[32m2024-05-06 15:33:38.071\u001b[0m | \u001b[34m\u001b[1mDEBUG   \u001b[0m | \u001b[36mpycorrector.t5.t5_corrector\u001b[0m:\u001b[36m__init__\u001b[0m:\u001b[36m30\u001b[0m - \u001b[34m\u001b[1mDevice: cuda\u001b[0m\n",
      "\u001b[32m2024-05-06 15:33:38.085\u001b[0m | \u001b[34m\u001b[1mDEBUG   \u001b[0m | \u001b[36mpycorrector.t5.t5_corrector\u001b[0m:\u001b[36m__init__\u001b[0m:\u001b[36m31\u001b[0m - \u001b[34m\u001b[1mLoaded t5 correction model: shibing624/mengzi-t5-base-chinese-correction, spend: 27.600 s.\u001b[0m\n"
     ]
    },
    {
     "data": {
      "text/plain": [
       "'不多'"
      ]
     },
     "execution_count": 44,
     "metadata": {},
     "output_type": "execute_result"
    }
   ],
   "source": [
    "T5_correction = T5Corrector().correct_batch([result[\"text\"]])\n",
    "T5_result = T5_correction[0]['target'] #修正後的結果\n",
    "T5_result"
   ]
  },
  {
   "cell_type": "code",
   "execution_count": 45,
   "metadata": {},
   "outputs": [
    {
     "name": "stderr",
     "output_type": "stream",
     "text": [
      "\u001b[32m2024-05-06 15:33:53.446\u001b[0m | \u001b[34m\u001b[1mDEBUG   \u001b[0m | \u001b[36mpycorrector.macbert.macbert_corrector\u001b[0m:\u001b[36m__init__\u001b[0m:\u001b[36m30\u001b[0m - \u001b[34m\u001b[1mUse device: cuda\u001b[0m\n",
      "\u001b[32m2024-05-06 15:33:53.447\u001b[0m | \u001b[34m\u001b[1mDEBUG   \u001b[0m | \u001b[36mpycorrector.macbert.macbert_corrector\u001b[0m:\u001b[36m__init__\u001b[0m:\u001b[36m31\u001b[0m - \u001b[34m\u001b[1mLoaded macbert4csc model: shibing624/macbert4csc-base-chinese, spend: 13.154 s.\u001b[0m\n"
     ]
    },
    {
     "data": {
      "text/plain": [
       "'不多'"
      ]
     },
     "execution_count": 45,
     "metadata": {},
     "output_type": "execute_result"
    }
   ],
   "source": [
    "Mac_correction = MacBertCorrector(\"shibing624/macbert4csc-base-chinese\").correct_batch([result[\"text\"]])\n",
    "Mac_result = Mac_correction[0]['target'] #修正後的結果\n",
    "Mac_result"
   ]
  },
  {
   "cell_type": "code",
   "execution_count": 46,
   "metadata": {},
   "outputs": [
    {
     "name": "stderr",
     "output_type": "stream",
     "text": [
      "\u001b[32m2024-05-06 15:33:55.519\u001b[0m | \u001b[34m\u001b[1mDEBUG   \u001b[0m | \u001b[36mpycorrector.seq2seq.conv_seq2seq_corrector\u001b[0m:\u001b[36m__init__\u001b[0m:\u001b[36m41\u001b[0m - \u001b[34m\u001b[1mmodel convseq2seq.pth not exists, use default model: C:\\Users\\KT/.pycorrector/datasets\\seq2seq_models\\convseq2seq_correction\u001b[0m\n",
      "\u001b[32m2024-05-06 15:33:55.555\u001b[0m | \u001b[34m\u001b[1mDEBUG   \u001b[0m | \u001b[36mpycorrector.seq2seq.conv_seq2seq_model\u001b[0m:\u001b[36m__init__\u001b[0m:\u001b[36m314\u001b[0m - \u001b[34m\u001b[1mDevice: cuda\u001b[0m\n",
      "\u001b[32m2024-05-06 15:33:55.565\u001b[0m | \u001b[34m\u001b[1mDEBUG   \u001b[0m | \u001b[36mpycorrector.seq2seq.conv_seq2seq_corrector\u001b[0m:\u001b[36m__init__\u001b[0m:\u001b[36m55\u001b[0m - \u001b[34m\u001b[1mLoaded model: C:\\Users\\KT/.pycorrector/datasets\\seq2seq_models\\convseq2seq_correction, spend: 0.0100 s.\u001b[0m\n",
      "\u001b[32m2024-05-06 15:33:55.591\u001b[0m | \u001b[1mINFO    \u001b[0m | \u001b[36mpycorrector.seq2seq.conv_seq2seq_model\u001b[0m:\u001b[36mload_model\u001b[0m:\u001b[36m541\u001b[0m - \u001b[1mLoading model from C:\\Users\\KT/.pycorrector/datasets\\seq2seq_models\\convseq2seq_correction\\convseq2seq.pth\u001b[0m\n"
     ]
    },
    {
     "data": {
      "text/plain": [
       "'不多'"
      ]
     },
     "execution_count": 46,
     "metadata": {},
     "output_type": "execute_result"
    }
   ],
   "source": [
    "Conv_correction = ConvSeq2SeqCorrector().correct_batch([result[\"text\"]])\n",
    "Conv_result = Conv_correction[0]['target'] \n",
    "Conv_result"
   ]
  },
  {
   "cell_type": "code",
   "execution_count": 49,
   "metadata": {},
   "outputs": [],
   "source": [
    "if(len(result[\"text\"])>5):\n",
    "    if(T5_result == Mac_result and Mac_result == Conv_result  and T5_result == Conv_result):\n",
    "        final_result = Mac_result\n",
    "    elif(T5_result == Mac_result and Mac_result != Conv_result and T5_result != Conv_result):\n",
    "        final_result = Mac_result\n",
    "    elif(T5_result != Mac_result and Mac_result != Conv_result and T5_result == Conv_result):\n",
    "        final_result = T5_result\n",
    "    elif(T5_result != Mac_result and Mac_result == Conv_result and T5_result != Conv_result):    \n",
    "        final_result = Mac_result\n",
    "    else:\n",
    "        final_result = Mac_result\n",
    "elif(len(result[\"text\"])<=5):\n",
    "    if(T5_result == Mac_result and Mac_result == Conv_result  and T5_result == Conv_result):\n",
    "        final_result = T5_result\n",
    "    elif(T5_result == Mac_result and Mac_result != Conv_result and T5_result != Conv_result):\n",
    "        final_result = T5_result\n",
    "    elif(T5_result != Mac_result and Mac_result != Conv_result and T5_result == Conv_result):\n",
    "        final_result = T5_result\n",
    "    elif(T5_result != Mac_result and Mac_result == Conv_result and T5_result != Conv_result):    \n",
    "        final_result = Mac_result\n",
    "    else:\n",
    "        final_result = T5_result"
   ]
  },
  {
   "cell_type": "code",
   "execution_count": 50,
   "metadata": {},
   "outputs": [
    {
     "data": {
      "text/plain": [
       "'不多'"
      ]
     },
     "execution_count": 50,
     "metadata": {},
     "output_type": "execute_result"
    }
   ],
   "source": [
    "final_result"
   ]
  }
 ],
 "metadata": {
  "kernelspec": {
   "display_name": "Py39",
   "language": "python",
   "name": "python3"
  },
  "language_info": {
   "codemirror_mode": {
    "name": "ipython",
    "version": 3
   },
   "file_extension": ".py",
   "mimetype": "text/x-python",
   "name": "python",
   "nbconvert_exporter": "python",
   "pygments_lexer": "ipython3",
   "version": "3.9.18"
  }
 },
 "nbformat": 4,
 "nbformat_minor": 2
}
