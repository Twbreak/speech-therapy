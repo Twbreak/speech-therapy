{
 "cells": [
  {
   "cell_type": "code",
   "execution_count": 7,
   "metadata": {},
   "outputs": [
    {
     "name": "stderr",
     "output_type": "stream",
     "text": [
      "d:\\anaconda3\\envs\\Py39\\lib\\site-packages\\transformers\\utils\\hub.py:127: FutureWarning: Using `TRANSFORMERS_CACHE` is deprecated and will be removed in v5 of Transformers. Use `HF_HOME` instead.\n",
      "  warnings.warn(\n"
     ]
    }
   ],
   "source": [
    "import whisper\n",
    "\n",
    "from pycorrector import T5Corrector\n",
    "from pycorrector import MacBertCorrector\n",
    "from pycorrector import ConvSeq2SeqCorrector\n",
    "\n",
    "from opencc import OpenCC\n"
   ]
  },
  {
   "cell_type": "code",
   "execution_count": 8,
   "metadata": {},
   "outputs": [
    {
     "name": "stderr",
     "output_type": "stream",
     "text": [
      "d:\\anaconda3\\envs\\Py39\\lib\\site-packages\\whisper\\transcribe.py:115: UserWarning: FP16 is not supported on CPU; using FP32 instead\n",
      "  warnings.warn(\"FP16 is not supported on CPU; using FP32 instead\")\n"
     ]
    },
    {
     "name": "stdout",
     "output_type": "stream",
     "text": [
      "洞的卡片其實不多\n"
     ]
    }
   ],
   "source": [
    "model = whisper.load_model(\"large-v2\")\n",
    "result = model.transcribe(\"test_2.mp3\")\n",
    "print(result[\"text\"])"
   ]
  },
  {
   "cell_type": "code",
   "execution_count": 9,
   "metadata": {},
   "outputs": [
    {
     "name": "stderr",
     "output_type": "stream",
     "text": [
      "\u001b[32m2024-07-24 17:08:56.332\u001b[0m | \u001b[34m\u001b[1mDEBUG   \u001b[0m | \u001b[36mpycorrector.t5.t5_corrector\u001b[0m:\u001b[36m__init__\u001b[0m:\u001b[36m30\u001b[0m - \u001b[34m\u001b[1mDevice: cpu\u001b[0m\n",
      "\u001b[32m2024-07-24 17:08:56.333\u001b[0m | \u001b[34m\u001b[1mDEBUG   \u001b[0m | \u001b[36mpycorrector.t5.t5_corrector\u001b[0m:\u001b[36m__init__\u001b[0m:\u001b[36m31\u001b[0m - \u001b[34m\u001b[1mLoaded t5 correction model: shibing624/mengzi-t5-base-chinese-correction, spend: 4.048 s.\u001b[0m\n"
     ]
    },
    {
     "data": {
      "text/plain": [
       "'洞的卡片其实不多'"
      ]
     },
     "execution_count": 9,
     "metadata": {},
     "output_type": "execute_result"
    }
   ],
   "source": [
    "T5_correction = T5Corrector().correct_batch([result[\"text\"]])\n",
    "T5_result = T5_correction[0]['target'] #修正後的結果\n",
    "T5_result"
   ]
  },
  {
   "cell_type": "code",
   "execution_count": 5,
   "metadata": {},
   "outputs": [
    {
     "name": "stderr",
     "output_type": "stream",
     "text": [
      "\u001b[32m2024-06-03 00:27:47.589\u001b[0m | \u001b[34m\u001b[1mDEBUG   \u001b[0m | \u001b[36mpycorrector.macbert.macbert_corrector\u001b[0m:\u001b[36m__init__\u001b[0m:\u001b[36m30\u001b[0m - \u001b[34m\u001b[1mUse device: cuda\u001b[0m\n",
      "\u001b[32m2024-06-03 00:27:47.589\u001b[0m | \u001b[34m\u001b[1mDEBUG   \u001b[0m | \u001b[36mpycorrector.macbert.macbert_corrector\u001b[0m:\u001b[36m__init__\u001b[0m:\u001b[36m31\u001b[0m - \u001b[34m\u001b[1mLoaded macbert4csc model: shibing624/macbert4csc-base-chinese, spend: 13.164 s.\u001b[0m\n"
     ]
    },
    {
     "data": {
      "text/plain": [
       "'洞的卡片其實不多'"
      ]
     },
     "execution_count": 5,
     "metadata": {},
     "output_type": "execute_result"
    }
   ],
   "source": [
    "Mac_correction = MacBertCorrector(\"shibing624/macbert4csc-base-chinese\").correct_batch([result[\"text\"]])\n",
    "Mac_result = Mac_correction[0]['target'] #修正後的結果\n",
    "Mac_result"
   ]
  },
  {
   "cell_type": "code",
   "execution_count": 6,
   "metadata": {},
   "outputs": [
    {
     "name": "stderr",
     "output_type": "stream",
     "text": [
      "\u001b[32m2024-06-03 00:27:49.475\u001b[0m | \u001b[34m\u001b[1mDEBUG   \u001b[0m | \u001b[36mpycorrector.seq2seq.conv_seq2seq_corrector\u001b[0m:\u001b[36m__init__\u001b[0m:\u001b[36m41\u001b[0m - \u001b[34m\u001b[1mmodel convseq2seq.pth not exists, use default model: C:\\Users\\KT/.pycorrector/datasets\\seq2seq_models\\convseq2seq_correction\u001b[0m\n",
      "\u001b[32m2024-06-03 00:27:49.537\u001b[0m | \u001b[34m\u001b[1mDEBUG   \u001b[0m | \u001b[36mpycorrector.seq2seq.conv_seq2seq_model\u001b[0m:\u001b[36m__init__\u001b[0m:\u001b[36m314\u001b[0m - \u001b[34m\u001b[1mDevice: cuda\u001b[0m\n",
      "\u001b[32m2024-06-03 00:27:49.548\u001b[0m | \u001b[34m\u001b[1mDEBUG   \u001b[0m | \u001b[36mpycorrector.seq2seq.conv_seq2seq_corrector\u001b[0m:\u001b[36m__init__\u001b[0m:\u001b[36m55\u001b[0m - \u001b[34m\u001b[1mLoaded model: C:\\Users\\KT/.pycorrector/datasets\\seq2seq_models\\convseq2seq_correction, spend: 0.0105 s.\u001b[0m\n",
      "\u001b[32m2024-06-03 00:27:49.630\u001b[0m | \u001b[1mINFO    \u001b[0m | \u001b[36mpycorrector.seq2seq.conv_seq2seq_model\u001b[0m:\u001b[36mload_model\u001b[0m:\u001b[36m541\u001b[0m - \u001b[1mLoading model from C:\\Users\\KT/.pycorrector/datasets\\seq2seq_models\\convseq2seq_correction\\convseq2seq.pth\u001b[0m\n"
     ]
    },
    {
     "data": {
      "text/plain": [
       "'的卡片其不多'"
      ]
     },
     "execution_count": 6,
     "metadata": {},
     "output_type": "execute_result"
    }
   ],
   "source": [
    "Conv_correction = ConvSeq2SeqCorrector().correct_batch([result[\"text\"]])\n",
    "Conv_result = Conv_correction[0]['target'] \n",
    "Conv_result"
   ]
  },
  {
   "cell_type": "code",
   "execution_count": 7,
   "metadata": {},
   "outputs": [],
   "source": [
    "if(len(result[\"text\"])>5):\n",
    "    if(T5_result == Mac_result and Mac_result == Conv_result  and T5_result == Conv_result):\n",
    "        final_result = Mac_result\n",
    "    elif(T5_result == Mac_result and Mac_result != Conv_result and T5_result != Conv_result):\n",
    "        final_result = Mac_result\n",
    "    elif(T5_result != Mac_result and Mac_result != Conv_result and T5_result == Conv_result):\n",
    "        final_result = T5_result\n",
    "    elif(T5_result != Mac_result and Mac_result == Conv_result and T5_result != Conv_result):    \n",
    "        final_result = Mac_result\n",
    "    else:\n",
    "        final_result = Mac_result\n",
    "elif(len(result[\"text\"])<=5):\n",
    "    if(T5_result == Mac_result and Mac_result == Conv_result  and T5_result == Conv_result):\n",
    "        final_result = T5_result\n",
    "    elif(T5_result == Mac_result and Mac_result != Conv_result and T5_result != Conv_result):\n",
    "        final_result = T5_result\n",
    "    elif(T5_result != Mac_result and Mac_result != Conv_result and T5_result == Conv_result):\n",
    "        final_result = T5_result\n",
    "    elif(T5_result != Mac_result and Mac_result == Conv_result and T5_result != Conv_result):    \n",
    "        final_result = Mac_result\n",
    "    else:\n",
    "        final_result = T5_result"
   ]
  },
  {
   "cell_type": "code",
   "execution_count": 8,
   "metadata": {},
   "outputs": [
    {
     "data": {
      "text/plain": [
       "'洞的卡片其實不多'"
      ]
     },
     "execution_count": 8,
     "metadata": {},
     "output_type": "execute_result"
    }
   ],
   "source": [
    "cc = OpenCC('s2t')\n",
    "cc.convert(final_result)\n",
    "final_result"
   ]
  }
 ],
 "metadata": {
  "kernelspec": {
   "display_name": "Py39",
   "language": "python",
   "name": "python3"
  },
  "language_info": {
   "codemirror_mode": {
    "name": "ipython",
    "version": 3
   },
   "file_extension": ".py",
   "mimetype": "text/x-python",
   "name": "python",
   "nbconvert_exporter": "python",
   "pygments_lexer": "ipython3",
   "version": "3.9.18"
  }
 },
 "nbformat": 4,
 "nbformat_minor": 2
}
